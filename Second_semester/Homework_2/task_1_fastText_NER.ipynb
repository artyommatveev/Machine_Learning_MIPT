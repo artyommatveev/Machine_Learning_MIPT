{
 "cells": [
  {
   "cell_type": "markdown",
   "metadata": {},
   "source": [
    "# Task 1. fastText-based Named Entity Recognition (NER)"
   ]
  },
  {
   "cell_type": "markdown",
   "metadata": {},
   "source": [
    "One needs to build a Russian-language NER model using [the nerus (NER) dataset](https://github.com/natasha/nerus).\n",
    "- Use the fastText model for the vector representation of tokens.\n",
    "- Use the Long short-term memory (LSTM) model class as a foundation.\n",
    "- You can choose an arbitrary LSTM model.\n",
    "- All the training process must be visualized with TensorBoard (evaluation metrics and a prediction example)."
   ]
  }
 ],
 "metadata": {
  "language_info": {
   "name": "python"
  }
 },
 "nbformat": 4,
 "nbformat_minor": 2
}
