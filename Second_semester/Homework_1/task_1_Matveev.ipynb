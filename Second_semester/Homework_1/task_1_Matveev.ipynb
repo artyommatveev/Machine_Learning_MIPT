{
  "cells": [
    {
      "cell_type": "markdown",
      "source": [
        "# Task 1. Analysis of Convolutional Neural Network"
      ],
      "metadata": {
        "collapsed": false,
        "id": "d8ad282648839740"
      },
      "id": "d8ad282648839740"
    },
    {
      "cell_type": "markdown",
      "source": [
        "Analyze the quality of [EMNIST-letters](https://pytorch.org/vision/0.8/datasets.html#emnist) dataset approximation with a Convolutional Neural Network (CNN) model adjusting the following parameters:\n",
        "\n",
        "* Kernel (filter) size.\n",
        "* The number of layers.\n",
        "* Type of pooling.\n",
        "* Batch Normalization.\n",
        "* Dropout.\n",
        "\n"
      ],
      "metadata": {
        "id": "lK0jAm-uZFo8"
      },
      "id": "lK0jAm-uZFo8"
    },
    {
      "cell_type": "code",
      "execution_count": null,
      "id": "initial_id",
      "metadata": {
        "collapsed": true,
        "id": "initial_id"
      },
      "outputs": [],
      "source": []
    }
  ],
  "metadata": {
    "kernelspec": {
      "display_name": "Python 3",
      "language": "python",
      "name": "python3"
    },
    "language_info": {
      "codemirror_mode": {
        "name": "ipython",
        "version": 2
      },
      "file_extension": ".py",
      "mimetype": "text/x-python",
      "name": "python",
      "nbconvert_exporter": "python",
      "pygments_lexer": "ipython2",
      "version": "2.7.6"
    },
    "colab": {
      "provenance": []
    }
  },
  "nbformat": 4,
  "nbformat_minor": 5
}