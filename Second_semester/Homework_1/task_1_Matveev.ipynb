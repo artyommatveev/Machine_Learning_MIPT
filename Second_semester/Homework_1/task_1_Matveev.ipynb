{
  "cells": [
    {
      "cell_type": "markdown",
      "metadata": {
        "id": "view-in-github",
        "colab_type": "text"
      },
      "source": [
        "<a href=\"https://colab.research.google.com/github/artyommatveev/Machine_Learning_MIPT/blob/main/Second_semester/Homework_1/task_1_Matveev.ipynb\" target=\"_parent\"><img src=\"https://colab.research.google.com/assets/colab-badge.svg\" alt=\"Open In Colab\"/></a>"
      ]
    },
    {
      "cell_type": "markdown",
      "source": [
        "# Task 1. Analysis of Convolutional Neural Network"
      ],
      "metadata": {
        "collapsed": false,
        "id": "d8ad282648839740"
      },
      "id": "d8ad282648839740"
    },
    {
      "cell_type": "markdown",
      "source": [
        "Analyze the quality of [EMNIST-letters](https://pytorch.org/vision/0.8/datasets.html#emnist) dataset approximation with a Convolutional Neural Network (CNN) model adjusting the following parameters:\n",
        "\n",
        "* Kernel (filter) size.\n",
        "* The number of layers.\n",
        "* Type of pooling.\n",
        "* Batch Normalization.\n",
        "* Dropout.\n",
        "\n"
      ],
      "metadata": {
        "id": "lK0jAm-uZFo8"
      },
      "id": "lK0jAm-uZFo8"
    },
    {
      "cell_type": "markdown",
      "source": [
        "## Import libraries"
      ],
      "metadata": {
        "id": "iD1FAyil06Q6"
      },
      "id": "iD1FAyil06Q6"
    },
    {
      "cell_type": "code",
      "source": [
        "import numpy as np\n",
        "import torch\n",
        "import torch.nn as nn\n",
        "import torch.optim as optim\n",
        "from google.colab import drive\n",
        "from torch.utils.data import DataLoader\n",
        "from torch.utils.tensorboard import SummaryWriter\n",
        "from torchvision import datasets, transforms\n",
        "\n",
        "drive.mount(\"/content/drive\")"
      ],
      "metadata": {
        "id": "W9B-r01d5klu",
        "outputId": "e1ac0b2d-4cef-4abe-a13b-60ee78304dc7",
        "colab": {
          "base_uri": "https://localhost:8080/"
        }
      },
      "id": "W9B-r01d5klu",
      "execution_count": null,
      "outputs": [
        {
          "output_type": "stream",
          "name": "stdout",
          "text": [
            "\u001b[2K     \u001b[90m━━━━━━━━━━━━━━━━━━━━━━━━━━━━━━━━━━━━━━━━\u001b[0m \u001b[32m1.7/1.7 MB\u001b[0m \u001b[31m7.5 MB/s\u001b[0m eta \u001b[36m0:00:00\u001b[0m\n",
            "\u001b[2K     \u001b[90m━━━━━━━━━━━━━━━━━━━━━━━━━━━━━━━━━━━━━━━━\u001b[0m \u001b[32m1.6/1.6 MB\u001b[0m \u001b[31m10.3 MB/s\u001b[0m eta \u001b[36m0:00:00\u001b[0m\n",
            "\u001b[?25hMounted at /content/drive\n"
          ]
        }
      ]
    },
    {
      "cell_type": "markdown",
      "source": [
        "## Set Up MLOps environment"
      ],
      "metadata": {
        "id": "aWDTgP109wLA"
      },
      "id": "aWDTgP109wLA"
    },
    {
      "cell_type": "markdown",
      "source": [
        "Update the webpage 1-2 times after you run the corresponding command (either `!nbqa isort PATH_TO_NOTEBOOK --float-to-top` or `!black PATH_TO_NOTEBOOK`)."
      ],
      "metadata": {
        "id": "aa9REWWz_JdS"
      },
      "id": "aa9REWWz_JdS"
    },
    {
      "cell_type": "markdown",
      "source": [
        "### Install and run `isort`"
      ],
      "metadata": {
        "id": "L9VmvpVT-CsO"
      },
      "id": "L9VmvpVT-CsO"
    },
    {
      "cell_type": "code",
      "source": [
        "!python -m pip install -U \"nbqa[toolchain]\""
      ],
      "metadata": {
        "id": "cYPSrMch9BvG"
      },
      "id": "cYPSrMch9BvG",
      "execution_count": null,
      "outputs": []
    },
    {
      "cell_type": "code",
      "source": [
        "!nbqa isort \"/content/drive/MyDrive/Colab Notebooks/task_1_Matveev.ipynb\" --float-to-top"
      ],
      "metadata": {
        "colab": {
          "base_uri": "https://localhost:8080/"
        },
        "id": "0EgysFml8gtf",
        "outputId": "795851b6-ffac-44e2-ab46-b721c895e4e5"
      },
      "id": "0EgysFml8gtf",
      "execution_count": null,
      "outputs": [
        {
          "output_type": "stream",
          "name": "stdout",
          "text": [
            "\u001b[1mNo such file or directory: path_to_notebook\u001b[0m\n"
          ]
        }
      ]
    },
    {
      "cell_type": "markdown",
      "source": [
        "### Install and run `black`"
      ],
      "metadata": {
        "id": "xXzcbTIs-OPn"
      },
      "id": "xXzcbTIs-OPn"
    },
    {
      "cell_type": "code",
      "source": [
        "!pip install black[jupyter] --quiet"
      ],
      "metadata": {
        "id": "u5yMv8PA7-3b"
      },
      "id": "u5yMv8PA7-3b",
      "execution_count": null,
      "outputs": []
    },
    {
      "cell_type": "code",
      "source": [
        "!black \"/content/drive/MyDrive/Colab Notebooks/task_1_Matveev.ipynb\""
      ],
      "metadata": {
        "id": "6Sgzsx-I6awU",
        "colab": {
          "base_uri": "https://localhost:8080/"
        },
        "outputId": "22635d76-9819-4a90-e4a4-e6ec3d993715"
      },
      "id": "6Sgzsx-I6awU",
      "execution_count": null,
      "outputs": [
        {
          "output_type": "stream",
          "name": "stdout",
          "text": [
            "\u001b[1mAll done! ✨ 🍰 ✨\u001b[0m\n",
            "\u001b[34m1 file \u001b[0mleft unchanged.\n"
          ]
        }
      ]
    },
    {
      "cell_type": "markdown",
      "source": [
        "## Define parameters"
      ],
      "metadata": {
        "id": "v38QTJ5D1eG_"
      },
      "id": "v38QTJ5D1eG_"
    },
    {
      "cell_type": "code",
      "source": [
        "batch_size = 64\n",
        "learning_rate = 0.001\n",
        "num_epochs = 10\n",
        "device = torch.device(\"cuda\" if torch.cuda.is_available() else \"cpu\")"
      ],
      "metadata": {
        "id": "vp6BBxxA1l9v"
      },
      "id": "vp6BBxxA1l9v",
      "execution_count": null,
      "outputs": []
    },
    {
      "cell_type": "code",
      "execution_count": null,
      "id": "initial_id",
      "metadata": {
        "collapsed": true,
        "id": "initial_id"
      },
      "outputs": [],
      "source": [
        "# Загрузка данных\n",
        "transform = transforms.Compose(\n",
        "    [transforms.ToTensor(), transforms.Normalize((0.5,), (0.5,))]\n",
        ")\n",
        "\n",
        "train_dataset = datasets.EMNIST(\n",
        "    root=\"./data\", split=\"letters\", train=True, download=True, transform=transform\n",
        ")\n",
        "train_loader = DataLoader(train_dataset, batch_size=batch_size, shuffle=True)\n",
        "\n",
        "test_dataset = datasets.EMNIST(\n",
        "    root=\"./data\", split=\"letters\", train=False, download=True, transform=transform\n",
        ")\n",
        "test_loader = DataLoader(test_dataset, batch_size=batch_size, shuffle=False)\n",
        "\n",
        "\n",
        "# Определение модели CNN\n",
        "class CNN(nn.Module):\n",
        "    def __init__(\n",
        "        self, kernel_size, num_layers, use_pooling, use_batchnorm, dropout_rate\n",
        "    ):\n",
        "        super(CNN, self).__init__()\n",
        "        layers = []\n",
        "        in_channels = 1\n",
        "        for _ in range(num_layers):\n",
        "            layers.append(nn.Conv2d(in_channels, 32, kernel_size, padding=1))\n",
        "            if use_batchnorm:\n",
        "                layers.append(nn.BatchNorm2d(32))\n",
        "            layers.append(nn.ReLU())\n",
        "            if use_pooling:\n",
        "                layers.append(nn.MaxPool2d(2, 2))\n",
        "            if dropout_rate > 0:\n",
        "                layers.append(nn.Dropout(dropout_rate))\n",
        "            in_channels = 32\n",
        "        self.features = nn.Sequential(*layers)\n",
        "        self.fc = nn.Linear(32 * 6 * 6, 26)\n",
        "\n",
        "    def forward(self, x):\n",
        "        x = self.features(x)\n",
        "        x = x.view(x.size(0), -1)\n",
        "        x = self.fc(x)\n",
        "        return x\n",
        "\n",
        "\n",
        "# Функция обучения модели\n",
        "def train_model(model, criterion, optimizer, num_epochs):\n",
        "    model.train()\n",
        "    for epoch in range(num_epochs):\n",
        "        running_loss = 0.0\n",
        "        for inputs, labels in train_loader:\n",
        "            inputs, labels = inputs.to(device), labels.to(device)\n",
        "            optimizer.zero_grad()\n",
        "            outputs = model(inputs)\n",
        "            loss = criterion(outputs, labels)\n",
        "            loss.backward()\n",
        "            optimizer.step()\n",
        "            running_loss += loss.item() * inputs.size(0)\n",
        "        epoch_loss = running_loss / len(train_loader.dataset)\n",
        "        print(f\"Epoch [{epoch+1}/{num_epochs}], Loss: {epoch_loss:.4f}\")\n",
        "        writer.add_scalar(\"Loss/train\", epoch_loss, epoch)\n",
        "\n",
        "\n",
        "# Функция тестирования модели\n",
        "def test_model(model):\n",
        "    model.eval()\n",
        "    correct = 0\n",
        "    total = 0\n",
        "    with torch.no_grad():\n",
        "        for inputs, labels in test_loader:\n",
        "            inputs, labels = inputs.to(device), labels.to(device)\n",
        "            outputs = model(inputs)\n",
        "            _, predicted = torch.max(outputs, 1)\n",
        "            total += labels.size(0)\n",
        "            correct += (predicted == labels).sum().item()\n",
        "    accuracy = correct / total\n",
        "    print(f\"Accuracy on test set: {accuracy:.4f}\")\n",
        "    writer.add_scalar(\"Accuracy/test\", accuracy)\n",
        "\n",
        "\n",
        "# Определение различных комбинаций гиперпараметров для анализа\n",
        "kernel_sizes = [3, 5]\n",
        "num_layers_list = [2, 3]\n",
        "use_pooling_list = [True, False]\n",
        "use_batchnorm_list = [True, False]\n",
        "dropout_rates = [0.2, 0.5]\n",
        "\n",
        "# Запуск экспериментов\n",
        "for kernel_size in kernel_sizes:\n",
        "    for num_layers in num_layers_list:\n",
        "        for use_pooling in use_pooling_list:\n",
        "            for use_batchnorm in use_batchnorm_list:\n",
        "                for dropout_rate in dropout_rates:\n",
        "                    model = CNN(\n",
        "                        kernel_size,\n",
        "                        num_layers,\n",
        "                        use_pooling,\n",
        "                        use_batchnorm,\n",
        "                        dropout_rate,\n",
        "                    ).to(device)\n",
        "                    criterion = nn.CrossEntropyLoss()\n",
        "                    optimizer = optim.Adam(model.parameters(), lr=learning_rate)\n",
        "                    writer = SummaryWriter(\n",
        "                        log_dir=f\"logs/kernel_{kernel_size}_layers_{num_layers}_pooling_{use_pooling}_batchnorm_{use_batchnorm}_dropout_{dropout_rate}\"\n",
        "                    )\n",
        "                    print(\n",
        "                        f\"Experiment with kernel size={kernel_size}, num_layers={num_layers}, pooling={use_pooling}, batchnorm={use_batchnorm}, dropout={dropout_rate}\"\n",
        "                    )\n",
        "                    train_model(model, criterion, optimizer, num_epochs)\n",
        "                    test_model(model)\n",
        "                    writer.close()"
      ]
    }
  ],
  "metadata": {
    "kernelspec": {
      "display_name": "Python 3",
      "language": "python",
      "name": "python3"
    },
    "language_info": {
      "codemirror_mode": {
        "name": "ipython",
        "version": 2
      },
      "file_extension": ".py",
      "mimetype": "text/x-python",
      "name": "python",
      "nbconvert_exporter": "python",
      "pygments_lexer": "ipython2",
      "version": "2.7.6"
    },
    "colab": {
      "provenance": [],
      "collapsed_sections": [
        "aWDTgP109wLA"
      ],
      "include_colab_link": true
    }
  },
  "nbformat": 4,
  "nbformat_minor": 5
}