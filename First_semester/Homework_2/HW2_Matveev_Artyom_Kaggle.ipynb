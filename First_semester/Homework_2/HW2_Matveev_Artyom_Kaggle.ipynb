{
  "nbformat": 4,
  "nbformat_minor": 0,
  "metadata": {
    "colab": {
      "provenance": [],
      "collapsed_sections": [
        "z40bVCTjhdju",
        "pPHphpv9SNrG"
      ]
    },
    "kernelspec": {
      "name": "python3",
      "display_name": "Python 3"
    },
    "language_info": {
      "name": "python"
    }
  },
  "cells": [
    {
      "cell_type": "markdown",
      "source": [
        "# Set up Kaggle environment"
      ],
      "metadata": {
        "id": "VtyG_eniPNUw"
      }
    },
    {
      "cell_type": "code",
      "source": [
        "!pip install -q kaggle"
      ],
      "metadata": {
        "id": "eaeBVhMzO2vB"
      },
      "execution_count": 49,
      "outputs": []
    },
    {
      "cell_type": "code",
      "source": [
        "from google.colab import files\n",
        "\n",
        "files.upload()"
      ],
      "metadata": {
        "id": "2iwzhySeO7BP"
      },
      "execution_count": null,
      "outputs": []
    },
    {
      "cell_type": "code",
      "source": [
        "!mkdir ~/.kaggle\n",
        "!cp kaggle.json ~/.kaggle/"
      ],
      "metadata": {
        "colab": {
          "base_uri": "https://localhost:8080/"
        },
        "id": "LyPxcXnpPMd9",
        "outputId": "2c813164-86f9-4590-b277-0c2b6d9d0927"
      },
      "execution_count": 51,
      "outputs": [
        {
          "output_type": "stream",
          "name": "stdout",
          "text": [
            "mkdir: cannot create directory ‘/root/.kaggle’: File exists\n"
          ]
        }
      ]
    },
    {
      "cell_type": "code",
      "source": [
        "!chmod 600 ~/.kaggle/kaggle.json"
      ],
      "metadata": {
        "id": "k9pWvAvkPY7b"
      },
      "execution_count": 52,
      "outputs": []
    },
    {
      "cell_type": "code",
      "source": [
        "!kaggle competitions download -c fall-ml2-mipt-2023"
      ],
      "metadata": {
        "colab": {
          "base_uri": "https://localhost:8080/"
        },
        "id": "VpqrXJkAPioK",
        "outputId": "4f139ac1-e98a-4b18-cef1-d6723f0f7374"
      },
      "execution_count": 53,
      "outputs": [
        {
          "output_type": "stream",
          "name": "stdout",
          "text": [
            "fall-ml2-mipt-2023.zip: Skipping, found more recently modified local copy (use --force to force download)\n"
          ]
        }
      ]
    },
    {
      "cell_type": "code",
      "source": [
        "!mkdir data\n",
        "!unzip fall-ml2-mipt-2023.zip -d data"
      ],
      "metadata": {
        "colab": {
          "base_uri": "https://localhost:8080/"
        },
        "id": "Y4i7HSw-PmG2",
        "outputId": "31235a99-75d5-4ea1-bf08-d247841cdd0a"
      },
      "execution_count": 54,
      "outputs": [
        {
          "output_type": "stream",
          "name": "stdout",
          "text": [
            "mkdir: cannot create directory ‘data’: File exists\n",
            "Archive:  fall-ml2-mipt-2023.zip\n",
            "replace data/sample.csv? [y]es, [n]o, [A]ll, [N]one, [r]ename: y\n",
            "  inflating: data/sample.csv         \n",
            "replace data/test.csv? [y]es, [n]o, [A]ll, [N]one, [r]ename: y\n",
            "  inflating: data/test.csv           \n",
            "replace data/train.csv? [y]es, [n]o, [A]ll, [N]one, [r]ename: y\n",
            "  inflating: data/train.csv          \n"
          ]
        }
      ]
    },
    {
      "cell_type": "markdown",
      "source": [
        "# Set up Python environment"
      ],
      "metadata": {
        "id": "kPUa-SQKP3Wr"
      }
    },
    {
      "cell_type": "code",
      "source": [
        "!wget -q -O requirements.txt https://raw.githubusercontent.com/Ark3M/Machine_Learning_MIPT/main/Homework_2/requirements.txt\n",
        "!pip install -q -r requirements.txt"
      ],
      "metadata": {
        "id": "jhhpOC8AiQGL"
      },
      "execution_count": 55,
      "outputs": []
    },
    {
      "cell_type": "code",
      "source": [
        "import matplotlib\n",
        "import matplotlib.pyplot as plt\n",
        "import numpy as np\n",
        "import pandas as pd\n",
        "import scipy\n",
        "from scipy import stats\n",
        "import seaborn as sns\n",
        "\n",
        "import catboost\n",
        "from catboost import CatBoostRegressor\n",
        "\n",
        "import sklearn\n",
        "from sklearn.metrics import mean_squared_error, mean_absolute_error, r2_score\n",
        "from sklearn.model_selection import (train_test_split, KFold, ParameterGrid,\n",
        "                                     GridSearchCV)\n",
        "from sklearn.feature_selection import RFE\n",
        "from sklearn.pipeline import Pipeline\n",
        "\n",
        "import skfda\n",
        "from skfda.misc.hat_matrix import NadarayaWatsonHatMatrix\n",
        "from skfda.ml.regression._kernel_regression import KernelRegression\n",
        "\n",
        "import time\n",
        "\n",
        "from tqdm.notebook import tqdm\n",
        "\n",
        "import random\n",
        "random.seed(42)\n",
        "np.random.seed(42)"
      ],
      "metadata": {
        "id": "1lU2BedphSad"
      },
      "execution_count": 56,
      "outputs": []
    },
    {
      "cell_type": "code",
      "source": [
        "print(\"NumPy version:\", np.__version__)\n",
        "print(\"Matplotlib version:\", matplotlib.__version__)\n",
        "print(\"pandas version:\", pd.__version__)\n",
        "print(\"SciPy version:\", scipy.__version__)\n",
        "print(\"seaborn version:\", sns.__version__)\n",
        "print(\"CatBoost version:\", catboost.__version__)\n",
        "print(\"scikit-learn version:\", sklearn.__version__)\n",
        "print(\"scikit-fda version:\", skfda.__version__)"
      ],
      "metadata": {
        "colab": {
          "base_uri": "https://localhost:8080/"
        },
        "id": "mQlCiq_Apb4R",
        "outputId": "b09c7432-f3cd-45c3-e9e6-0c341798b774"
      },
      "execution_count": 57,
      "outputs": [
        {
          "output_type": "stream",
          "name": "stdout",
          "text": [
            "NumPy version: 1.23.5\n",
            "Matplotlib version: 3.7.1\n",
            "pandas version: 1.5.3\n",
            "SciPy version: 1.11.3\n",
            "seaborn version: 0.12.2\n",
            "CatBoost version: 1.2.2\n",
            "scikit-learn version: 1.2.2\n",
            "scikit-fda version: 0.9\n"
          ]
        }
      ]
    },
    {
      "cell_type": "code",
      "source": [
        "train_data = pd.read_csv(\"./data/train.csv\")\n",
        "test_data = pd.read_csv(\"./data/test.csv\")"
      ],
      "metadata": {
        "id": "XLtbSTcxhTxE"
      },
      "execution_count": 58,
      "outputs": []
    },
    {
      "cell_type": "code",
      "source": [
        "train_data.sample(5, random_state=42)"
      ],
      "metadata": {
        "colab": {
          "base_uri": "https://localhost:8080/",
          "height": 256
        },
        "id": "E2fnd6XPrgwD",
        "outputId": "4cbb3ce2-06b5-46f5-aaa3-81462c091f10"
      },
      "execution_count": 59,
      "outputs": [
        {
          "output_type": "execute_result",
          "data": {
            "text/plain": [
              "        Id     Category       x_1       x_2       x_3       x_4       x_5  \\\n",
              "7940  7940  4028.882529  0.352920  1.260915 -0.508886 -1.394332  0.885294   \n",
              "1162  1162  4105.986328  0.126077 -0.271997 -0.434776 -1.156804 -0.086839   \n",
              "582    582  1252.434197  0.363228  0.567714  1.248946 -0.196409  0.699300   \n",
              "4081  4081  2724.977260  1.420555 -0.856992 -0.326628  0.298690  0.232530   \n",
              "8412  8412  5087.338997  0.649049  0.663989 -0.423261 -0.811215  0.713595   \n",
              "\n",
              "           x_6       x_7       x_8  ...      x_91      x_92      x_93  \\\n",
              "7940 -0.028402 -0.641132 -0.674614  ... -0.605543  0.664190 -0.692197   \n",
              "1162  0.069909  0.564491  1.306464  ... -0.523530 -1.892023  1.279750   \n",
              "582  -0.322962  0.226045  0.913468  ...  0.902034 -1.177415  0.166688   \n",
              "4081  0.967905  0.123713 -0.565374  ... -0.869516  1.490169  0.722783   \n",
              "8412  0.059118  0.507625 -0.469708  ...  2.242312 -0.158805  0.360351   \n",
              "\n",
              "          x_94      x_95      x_96      x_97      x_98      x_99     x_100  \n",
              "7940  1.366601 -1.824016 -0.092725 -1.300171 -1.271644  1.738578 -0.527962  \n",
              "1162  0.849509  1.032702  0.289172 -0.129430 -0.198659 -1.935958 -0.499715  \n",
              "582  -0.336547 -1.783695  1.360798 -0.648645  0.443763  1.243612 -1.127115  \n",
              "4081  1.331582  0.939452  0.102805  0.640172 -0.771826 -1.169283  1.150417  \n",
              "8412 -0.332395 -0.591154  0.705706  0.921269  0.348800 -0.531707 -0.249947  \n",
              "\n",
              "[5 rows x 102 columns]"
            ],
            "text/html": [
              "\n",
              "  <div id=\"df-0a1788b0-7194-4f32-95d8-140cfd6e68ef\" class=\"colab-df-container\">\n",
              "    <div>\n",
              "<style scoped>\n",
              "    .dataframe tbody tr th:only-of-type {\n",
              "        vertical-align: middle;\n",
              "    }\n",
              "\n",
              "    .dataframe tbody tr th {\n",
              "        vertical-align: top;\n",
              "    }\n",
              "\n",
              "    .dataframe thead th {\n",
              "        text-align: right;\n",
              "    }\n",
              "</style>\n",
              "<table border=\"1\" class=\"dataframe\">\n",
              "  <thead>\n",
              "    <tr style=\"text-align: right;\">\n",
              "      <th></th>\n",
              "      <th>Id</th>\n",
              "      <th>Category</th>\n",
              "      <th>x_1</th>\n",
              "      <th>x_2</th>\n",
              "      <th>x_3</th>\n",
              "      <th>x_4</th>\n",
              "      <th>x_5</th>\n",
              "      <th>x_6</th>\n",
              "      <th>x_7</th>\n",
              "      <th>x_8</th>\n",
              "      <th>...</th>\n",
              "      <th>x_91</th>\n",
              "      <th>x_92</th>\n",
              "      <th>x_93</th>\n",
              "      <th>x_94</th>\n",
              "      <th>x_95</th>\n",
              "      <th>x_96</th>\n",
              "      <th>x_97</th>\n",
              "      <th>x_98</th>\n",
              "      <th>x_99</th>\n",
              "      <th>x_100</th>\n",
              "    </tr>\n",
              "  </thead>\n",
              "  <tbody>\n",
              "    <tr>\n",
              "      <th>7940</th>\n",
              "      <td>7940</td>\n",
              "      <td>4028.882529</td>\n",
              "      <td>0.352920</td>\n",
              "      <td>1.260915</td>\n",
              "      <td>-0.508886</td>\n",
              "      <td>-1.394332</td>\n",
              "      <td>0.885294</td>\n",
              "      <td>-0.028402</td>\n",
              "      <td>-0.641132</td>\n",
              "      <td>-0.674614</td>\n",
              "      <td>...</td>\n",
              "      <td>-0.605543</td>\n",
              "      <td>0.664190</td>\n",
              "      <td>-0.692197</td>\n",
              "      <td>1.366601</td>\n",
              "      <td>-1.824016</td>\n",
              "      <td>-0.092725</td>\n",
              "      <td>-1.300171</td>\n",
              "      <td>-1.271644</td>\n",
              "      <td>1.738578</td>\n",
              "      <td>-0.527962</td>\n",
              "    </tr>\n",
              "    <tr>\n",
              "      <th>1162</th>\n",
              "      <td>1162</td>\n",
              "      <td>4105.986328</td>\n",
              "      <td>0.126077</td>\n",
              "      <td>-0.271997</td>\n",
              "      <td>-0.434776</td>\n",
              "      <td>-1.156804</td>\n",
              "      <td>-0.086839</td>\n",
              "      <td>0.069909</td>\n",
              "      <td>0.564491</td>\n",
              "      <td>1.306464</td>\n",
              "      <td>...</td>\n",
              "      <td>-0.523530</td>\n",
              "      <td>-1.892023</td>\n",
              "      <td>1.279750</td>\n",
              "      <td>0.849509</td>\n",
              "      <td>1.032702</td>\n",
              "      <td>0.289172</td>\n",
              "      <td>-0.129430</td>\n",
              "      <td>-0.198659</td>\n",
              "      <td>-1.935958</td>\n",
              "      <td>-0.499715</td>\n",
              "    </tr>\n",
              "    <tr>\n",
              "      <th>582</th>\n",
              "      <td>582</td>\n",
              "      <td>1252.434197</td>\n",
              "      <td>0.363228</td>\n",
              "      <td>0.567714</td>\n",
              "      <td>1.248946</td>\n",
              "      <td>-0.196409</td>\n",
              "      <td>0.699300</td>\n",
              "      <td>-0.322962</td>\n",
              "      <td>0.226045</td>\n",
              "      <td>0.913468</td>\n",
              "      <td>...</td>\n",
              "      <td>0.902034</td>\n",
              "      <td>-1.177415</td>\n",
              "      <td>0.166688</td>\n",
              "      <td>-0.336547</td>\n",
              "      <td>-1.783695</td>\n",
              "      <td>1.360798</td>\n",
              "      <td>-0.648645</td>\n",
              "      <td>0.443763</td>\n",
              "      <td>1.243612</td>\n",
              "      <td>-1.127115</td>\n",
              "    </tr>\n",
              "    <tr>\n",
              "      <th>4081</th>\n",
              "      <td>4081</td>\n",
              "      <td>2724.977260</td>\n",
              "      <td>1.420555</td>\n",
              "      <td>-0.856992</td>\n",
              "      <td>-0.326628</td>\n",
              "      <td>0.298690</td>\n",
              "      <td>0.232530</td>\n",
              "      <td>0.967905</td>\n",
              "      <td>0.123713</td>\n",
              "      <td>-0.565374</td>\n",
              "      <td>...</td>\n",
              "      <td>-0.869516</td>\n",
              "      <td>1.490169</td>\n",
              "      <td>0.722783</td>\n",
              "      <td>1.331582</td>\n",
              "      <td>0.939452</td>\n",
              "      <td>0.102805</td>\n",
              "      <td>0.640172</td>\n",
              "      <td>-0.771826</td>\n",
              "      <td>-1.169283</td>\n",
              "      <td>1.150417</td>\n",
              "    </tr>\n",
              "    <tr>\n",
              "      <th>8412</th>\n",
              "      <td>8412</td>\n",
              "      <td>5087.338997</td>\n",
              "      <td>0.649049</td>\n",
              "      <td>0.663989</td>\n",
              "      <td>-0.423261</td>\n",
              "      <td>-0.811215</td>\n",
              "      <td>0.713595</td>\n",
              "      <td>0.059118</td>\n",
              "      <td>0.507625</td>\n",
              "      <td>-0.469708</td>\n",
              "      <td>...</td>\n",
              "      <td>2.242312</td>\n",
              "      <td>-0.158805</td>\n",
              "      <td>0.360351</td>\n",
              "      <td>-0.332395</td>\n",
              "      <td>-0.591154</td>\n",
              "      <td>0.705706</td>\n",
              "      <td>0.921269</td>\n",
              "      <td>0.348800</td>\n",
              "      <td>-0.531707</td>\n",
              "      <td>-0.249947</td>\n",
              "    </tr>\n",
              "  </tbody>\n",
              "</table>\n",
              "<p>5 rows × 102 columns</p>\n",
              "</div>\n",
              "    <div class=\"colab-df-buttons\">\n",
              "\n",
              "  <div class=\"colab-df-container\">\n",
              "    <button class=\"colab-df-convert\" onclick=\"convertToInteractive('df-0a1788b0-7194-4f32-95d8-140cfd6e68ef')\"\n",
              "            title=\"Convert this dataframe to an interactive table.\"\n",
              "            style=\"display:none;\">\n",
              "\n",
              "  <svg xmlns=\"http://www.w3.org/2000/svg\" height=\"24px\" viewBox=\"0 -960 960 960\">\n",
              "    <path d=\"M120-120v-720h720v720H120Zm60-500h600v-160H180v160Zm220 220h160v-160H400v160Zm0 220h160v-160H400v160ZM180-400h160v-160H180v160Zm440 0h160v-160H620v160ZM180-180h160v-160H180v160Zm440 0h160v-160H620v160Z\"/>\n",
              "  </svg>\n",
              "    </button>\n",
              "\n",
              "  <style>\n",
              "    .colab-df-container {\n",
              "      display:flex;\n",
              "      gap: 12px;\n",
              "    }\n",
              "\n",
              "    .colab-df-convert {\n",
              "      background-color: #E8F0FE;\n",
              "      border: none;\n",
              "      border-radius: 50%;\n",
              "      cursor: pointer;\n",
              "      display: none;\n",
              "      fill: #1967D2;\n",
              "      height: 32px;\n",
              "      padding: 0 0 0 0;\n",
              "      width: 32px;\n",
              "    }\n",
              "\n",
              "    .colab-df-convert:hover {\n",
              "      background-color: #E2EBFA;\n",
              "      box-shadow: 0px 1px 2px rgba(60, 64, 67, 0.3), 0px 1px 3px 1px rgba(60, 64, 67, 0.15);\n",
              "      fill: #174EA6;\n",
              "    }\n",
              "\n",
              "    .colab-df-buttons div {\n",
              "      margin-bottom: 4px;\n",
              "    }\n",
              "\n",
              "    [theme=dark] .colab-df-convert {\n",
              "      background-color: #3B4455;\n",
              "      fill: #D2E3FC;\n",
              "    }\n",
              "\n",
              "    [theme=dark] .colab-df-convert:hover {\n",
              "      background-color: #434B5C;\n",
              "      box-shadow: 0px 1px 3px 1px rgba(0, 0, 0, 0.15);\n",
              "      filter: drop-shadow(0px 1px 2px rgba(0, 0, 0, 0.3));\n",
              "      fill: #FFFFFF;\n",
              "    }\n",
              "  </style>\n",
              "\n",
              "    <script>\n",
              "      const buttonEl =\n",
              "        document.querySelector('#df-0a1788b0-7194-4f32-95d8-140cfd6e68ef button.colab-df-convert');\n",
              "      buttonEl.style.display =\n",
              "        google.colab.kernel.accessAllowed ? 'block' : 'none';\n",
              "\n",
              "      async function convertToInteractive(key) {\n",
              "        const element = document.querySelector('#df-0a1788b0-7194-4f32-95d8-140cfd6e68ef');\n",
              "        const dataTable =\n",
              "          await google.colab.kernel.invokeFunction('convertToInteractive',\n",
              "                                                    [key], {});\n",
              "        if (!dataTable) return;\n",
              "\n",
              "        const docLinkHtml = 'Like what you see? Visit the ' +\n",
              "          '<a target=\"_blank\" href=https://colab.research.google.com/notebooks/data_table.ipynb>data table notebook</a>'\n",
              "          + ' to learn more about interactive tables.';\n",
              "        element.innerHTML = '';\n",
              "        dataTable['output_type'] = 'display_data';\n",
              "        await google.colab.output.renderOutput(dataTable, element);\n",
              "        const docLink = document.createElement('div');\n",
              "        docLink.innerHTML = docLinkHtml;\n",
              "        element.appendChild(docLink);\n",
              "      }\n",
              "    </script>\n",
              "  </div>\n",
              "\n",
              "\n",
              "<div id=\"df-78908b07-f425-4e7b-aed8-d9f4c70e2356\">\n",
              "  <button class=\"colab-df-quickchart\" onclick=\"quickchart('df-78908b07-f425-4e7b-aed8-d9f4c70e2356')\"\n",
              "            title=\"Suggest charts\"\n",
              "            style=\"display:none;\">\n",
              "\n",
              "<svg xmlns=\"http://www.w3.org/2000/svg\" height=\"24px\"viewBox=\"0 0 24 24\"\n",
              "     width=\"24px\">\n",
              "    <g>\n",
              "        <path d=\"M19 3H5c-1.1 0-2 .9-2 2v14c0 1.1.9 2 2 2h14c1.1 0 2-.9 2-2V5c0-1.1-.9-2-2-2zM9 17H7v-7h2v7zm4 0h-2V7h2v10zm4 0h-2v-4h2v4z\"/>\n",
              "    </g>\n",
              "</svg>\n",
              "  </button>\n",
              "\n",
              "<style>\n",
              "  .colab-df-quickchart {\n",
              "      --bg-color: #E8F0FE;\n",
              "      --fill-color: #1967D2;\n",
              "      --hover-bg-color: #E2EBFA;\n",
              "      --hover-fill-color: #174EA6;\n",
              "      --disabled-fill-color: #AAA;\n",
              "      --disabled-bg-color: #DDD;\n",
              "  }\n",
              "\n",
              "  [theme=dark] .colab-df-quickchart {\n",
              "      --bg-color: #3B4455;\n",
              "      --fill-color: #D2E3FC;\n",
              "      --hover-bg-color: #434B5C;\n",
              "      --hover-fill-color: #FFFFFF;\n",
              "      --disabled-bg-color: #3B4455;\n",
              "      --disabled-fill-color: #666;\n",
              "  }\n",
              "\n",
              "  .colab-df-quickchart {\n",
              "    background-color: var(--bg-color);\n",
              "    border: none;\n",
              "    border-radius: 50%;\n",
              "    cursor: pointer;\n",
              "    display: none;\n",
              "    fill: var(--fill-color);\n",
              "    height: 32px;\n",
              "    padding: 0;\n",
              "    width: 32px;\n",
              "  }\n",
              "\n",
              "  .colab-df-quickchart:hover {\n",
              "    background-color: var(--hover-bg-color);\n",
              "    box-shadow: 0 1px 2px rgba(60, 64, 67, 0.3), 0 1px 3px 1px rgba(60, 64, 67, 0.15);\n",
              "    fill: var(--button-hover-fill-color);\n",
              "  }\n",
              "\n",
              "  .colab-df-quickchart-complete:disabled,\n",
              "  .colab-df-quickchart-complete:disabled:hover {\n",
              "    background-color: var(--disabled-bg-color);\n",
              "    fill: var(--disabled-fill-color);\n",
              "    box-shadow: none;\n",
              "  }\n",
              "\n",
              "  .colab-df-spinner {\n",
              "    border: 2px solid var(--fill-color);\n",
              "    border-color: transparent;\n",
              "    border-bottom-color: var(--fill-color);\n",
              "    animation:\n",
              "      spin 1s steps(1) infinite;\n",
              "  }\n",
              "\n",
              "  @keyframes spin {\n",
              "    0% {\n",
              "      border-color: transparent;\n",
              "      border-bottom-color: var(--fill-color);\n",
              "      border-left-color: var(--fill-color);\n",
              "    }\n",
              "    20% {\n",
              "      border-color: transparent;\n",
              "      border-left-color: var(--fill-color);\n",
              "      border-top-color: var(--fill-color);\n",
              "    }\n",
              "    30% {\n",
              "      border-color: transparent;\n",
              "      border-left-color: var(--fill-color);\n",
              "      border-top-color: var(--fill-color);\n",
              "      border-right-color: var(--fill-color);\n",
              "    }\n",
              "    40% {\n",
              "      border-color: transparent;\n",
              "      border-right-color: var(--fill-color);\n",
              "      border-top-color: var(--fill-color);\n",
              "    }\n",
              "    60% {\n",
              "      border-color: transparent;\n",
              "      border-right-color: var(--fill-color);\n",
              "    }\n",
              "    80% {\n",
              "      border-color: transparent;\n",
              "      border-right-color: var(--fill-color);\n",
              "      border-bottom-color: var(--fill-color);\n",
              "    }\n",
              "    90% {\n",
              "      border-color: transparent;\n",
              "      border-bottom-color: var(--fill-color);\n",
              "    }\n",
              "  }\n",
              "</style>\n",
              "\n",
              "  <script>\n",
              "    async function quickchart(key) {\n",
              "      const quickchartButtonEl =\n",
              "        document.querySelector('#' + key + ' button');\n",
              "      quickchartButtonEl.disabled = true;  // To prevent multiple clicks.\n",
              "      quickchartButtonEl.classList.add('colab-df-spinner');\n",
              "      try {\n",
              "        const charts = await google.colab.kernel.invokeFunction(\n",
              "            'suggestCharts', [key], {});\n",
              "      } catch (error) {\n",
              "        console.error('Error during call to suggestCharts:', error);\n",
              "      }\n",
              "      quickchartButtonEl.classList.remove('colab-df-spinner');\n",
              "      quickchartButtonEl.classList.add('colab-df-quickchart-complete');\n",
              "    }\n",
              "    (() => {\n",
              "      let quickchartButtonEl =\n",
              "        document.querySelector('#df-78908b07-f425-4e7b-aed8-d9f4c70e2356 button');\n",
              "      quickchartButtonEl.style.display =\n",
              "        google.colab.kernel.accessAllowed ? 'block' : 'none';\n",
              "    })();\n",
              "  </script>\n",
              "</div>\n",
              "\n",
              "    </div>\n",
              "  </div>\n"
            ]
          },
          "metadata": {},
          "execution_count": 59
        }
      ]
    },
    {
      "cell_type": "code",
      "source": [
        "test_data.sample(5, random_state=42)"
      ],
      "metadata": {
        "colab": {
          "base_uri": "https://localhost:8080/",
          "height": 256
        },
        "id": "w_LVxGe31hCM",
        "outputId": "f9a1cb18-edba-4122-e363-a5c7edf40871"
      },
      "execution_count": 60,
      "outputs": [
        {
          "output_type": "execute_result",
          "data": {
            "text/plain": [
              "      Id       x_1       x_2       x_3       x_4       x_5       x_6  \\\n",
              "521  521  0.871480 -0.440390  0.917776 -0.296730 -0.109325 -0.369024   \n",
              "737  737  2.653461  1.314795 -2.015366 -1.687538 -0.645912 -0.442693   \n",
              "740  740  0.027987 -0.575459 -2.838324  0.366966  0.398979 -0.343206   \n",
              "660  660  0.783134 -1.417902 -0.110048  1.290081  0.246412  0.951527   \n",
              "411  411  1.520526  0.049583 -0.049050  0.262049 -0.591740 -0.490437   \n",
              "\n",
              "          x_7       x_8       x_9  ...      x_91      x_92      x_93  \\\n",
              "521 -0.819836  0.805594 -1.210785  ... -0.089296 -1.229797 -0.739756   \n",
              "737  0.198743  0.410841 -0.400919  ...  2.787543 -0.569256  0.052537   \n",
              "740 -1.406724 -0.566458 -0.798880  ... -0.609969 -2.157048 -0.257779   \n",
              "660 -0.309869 -0.366925  0.097801  ... -0.444004 -0.010123  0.170862   \n",
              "411  1.190732 -1.152903  1.028219  ...  0.488817  0.447563  2.301727   \n",
              "\n",
              "         x_94      x_95      x_96      x_97      x_98      x_99     x_100  \n",
              "521  0.947265 -0.499986 -1.795198  1.279436  0.331342 -1.055002  0.047369  \n",
              "737  0.821303 -1.192334 -2.140077 -0.933828  0.485053 -1.508946  0.829323  \n",
              "740  1.192419  0.212557  0.290195  1.023893  1.690297  1.311897  0.438899  \n",
              "660 -0.643833  0.573887  1.418230  1.680601  0.290421  1.203355  0.215601  \n",
              "411 -1.314749  1.835680 -0.544684 -0.064527 -1.704101 -1.309753  1.662258  \n",
              "\n",
              "[5 rows x 101 columns]"
            ],
            "text/html": [
              "\n",
              "  <div id=\"df-7372fb9d-8457-4fc0-99a3-61cbab07a6dd\" class=\"colab-df-container\">\n",
              "    <div>\n",
              "<style scoped>\n",
              "    .dataframe tbody tr th:only-of-type {\n",
              "        vertical-align: middle;\n",
              "    }\n",
              "\n",
              "    .dataframe tbody tr th {\n",
              "        vertical-align: top;\n",
              "    }\n",
              "\n",
              "    .dataframe thead th {\n",
              "        text-align: right;\n",
              "    }\n",
              "</style>\n",
              "<table border=\"1\" class=\"dataframe\">\n",
              "  <thead>\n",
              "    <tr style=\"text-align: right;\">\n",
              "      <th></th>\n",
              "      <th>Id</th>\n",
              "      <th>x_1</th>\n",
              "      <th>x_2</th>\n",
              "      <th>x_3</th>\n",
              "      <th>x_4</th>\n",
              "      <th>x_5</th>\n",
              "      <th>x_6</th>\n",
              "      <th>x_7</th>\n",
              "      <th>x_8</th>\n",
              "      <th>x_9</th>\n",
              "      <th>...</th>\n",
              "      <th>x_91</th>\n",
              "      <th>x_92</th>\n",
              "      <th>x_93</th>\n",
              "      <th>x_94</th>\n",
              "      <th>x_95</th>\n",
              "      <th>x_96</th>\n",
              "      <th>x_97</th>\n",
              "      <th>x_98</th>\n",
              "      <th>x_99</th>\n",
              "      <th>x_100</th>\n",
              "    </tr>\n",
              "  </thead>\n",
              "  <tbody>\n",
              "    <tr>\n",
              "      <th>521</th>\n",
              "      <td>521</td>\n",
              "      <td>0.871480</td>\n",
              "      <td>-0.440390</td>\n",
              "      <td>0.917776</td>\n",
              "      <td>-0.296730</td>\n",
              "      <td>-0.109325</td>\n",
              "      <td>-0.369024</td>\n",
              "      <td>-0.819836</td>\n",
              "      <td>0.805594</td>\n",
              "      <td>-1.210785</td>\n",
              "      <td>...</td>\n",
              "      <td>-0.089296</td>\n",
              "      <td>-1.229797</td>\n",
              "      <td>-0.739756</td>\n",
              "      <td>0.947265</td>\n",
              "      <td>-0.499986</td>\n",
              "      <td>-1.795198</td>\n",
              "      <td>1.279436</td>\n",
              "      <td>0.331342</td>\n",
              "      <td>-1.055002</td>\n",
              "      <td>0.047369</td>\n",
              "    </tr>\n",
              "    <tr>\n",
              "      <th>737</th>\n",
              "      <td>737</td>\n",
              "      <td>2.653461</td>\n",
              "      <td>1.314795</td>\n",
              "      <td>-2.015366</td>\n",
              "      <td>-1.687538</td>\n",
              "      <td>-0.645912</td>\n",
              "      <td>-0.442693</td>\n",
              "      <td>0.198743</td>\n",
              "      <td>0.410841</td>\n",
              "      <td>-0.400919</td>\n",
              "      <td>...</td>\n",
              "      <td>2.787543</td>\n",
              "      <td>-0.569256</td>\n",
              "      <td>0.052537</td>\n",
              "      <td>0.821303</td>\n",
              "      <td>-1.192334</td>\n",
              "      <td>-2.140077</td>\n",
              "      <td>-0.933828</td>\n",
              "      <td>0.485053</td>\n",
              "      <td>-1.508946</td>\n",
              "      <td>0.829323</td>\n",
              "    </tr>\n",
              "    <tr>\n",
              "      <th>740</th>\n",
              "      <td>740</td>\n",
              "      <td>0.027987</td>\n",
              "      <td>-0.575459</td>\n",
              "      <td>-2.838324</td>\n",
              "      <td>0.366966</td>\n",
              "      <td>0.398979</td>\n",
              "      <td>-0.343206</td>\n",
              "      <td>-1.406724</td>\n",
              "      <td>-0.566458</td>\n",
              "      <td>-0.798880</td>\n",
              "      <td>...</td>\n",
              "      <td>-0.609969</td>\n",
              "      <td>-2.157048</td>\n",
              "      <td>-0.257779</td>\n",
              "      <td>1.192419</td>\n",
              "      <td>0.212557</td>\n",
              "      <td>0.290195</td>\n",
              "      <td>1.023893</td>\n",
              "      <td>1.690297</td>\n",
              "      <td>1.311897</td>\n",
              "      <td>0.438899</td>\n",
              "    </tr>\n",
              "    <tr>\n",
              "      <th>660</th>\n",
              "      <td>660</td>\n",
              "      <td>0.783134</td>\n",
              "      <td>-1.417902</td>\n",
              "      <td>-0.110048</td>\n",
              "      <td>1.290081</td>\n",
              "      <td>0.246412</td>\n",
              "      <td>0.951527</td>\n",
              "      <td>-0.309869</td>\n",
              "      <td>-0.366925</td>\n",
              "      <td>0.097801</td>\n",
              "      <td>...</td>\n",
              "      <td>-0.444004</td>\n",
              "      <td>-0.010123</td>\n",
              "      <td>0.170862</td>\n",
              "      <td>-0.643833</td>\n",
              "      <td>0.573887</td>\n",
              "      <td>1.418230</td>\n",
              "      <td>1.680601</td>\n",
              "      <td>0.290421</td>\n",
              "      <td>1.203355</td>\n",
              "      <td>0.215601</td>\n",
              "    </tr>\n",
              "    <tr>\n",
              "      <th>411</th>\n",
              "      <td>411</td>\n",
              "      <td>1.520526</td>\n",
              "      <td>0.049583</td>\n",
              "      <td>-0.049050</td>\n",
              "      <td>0.262049</td>\n",
              "      <td>-0.591740</td>\n",
              "      <td>-0.490437</td>\n",
              "      <td>1.190732</td>\n",
              "      <td>-1.152903</td>\n",
              "      <td>1.028219</td>\n",
              "      <td>...</td>\n",
              "      <td>0.488817</td>\n",
              "      <td>0.447563</td>\n",
              "      <td>2.301727</td>\n",
              "      <td>-1.314749</td>\n",
              "      <td>1.835680</td>\n",
              "      <td>-0.544684</td>\n",
              "      <td>-0.064527</td>\n",
              "      <td>-1.704101</td>\n",
              "      <td>-1.309753</td>\n",
              "      <td>1.662258</td>\n",
              "    </tr>\n",
              "  </tbody>\n",
              "</table>\n",
              "<p>5 rows × 101 columns</p>\n",
              "</div>\n",
              "    <div class=\"colab-df-buttons\">\n",
              "\n",
              "  <div class=\"colab-df-container\">\n",
              "    <button class=\"colab-df-convert\" onclick=\"convertToInteractive('df-7372fb9d-8457-4fc0-99a3-61cbab07a6dd')\"\n",
              "            title=\"Convert this dataframe to an interactive table.\"\n",
              "            style=\"display:none;\">\n",
              "\n",
              "  <svg xmlns=\"http://www.w3.org/2000/svg\" height=\"24px\" viewBox=\"0 -960 960 960\">\n",
              "    <path d=\"M120-120v-720h720v720H120Zm60-500h600v-160H180v160Zm220 220h160v-160H400v160Zm0 220h160v-160H400v160ZM180-400h160v-160H180v160Zm440 0h160v-160H620v160ZM180-180h160v-160H180v160Zm440 0h160v-160H620v160Z\"/>\n",
              "  </svg>\n",
              "    </button>\n",
              "\n",
              "  <style>\n",
              "    .colab-df-container {\n",
              "      display:flex;\n",
              "      gap: 12px;\n",
              "    }\n",
              "\n",
              "    .colab-df-convert {\n",
              "      background-color: #E8F0FE;\n",
              "      border: none;\n",
              "      border-radius: 50%;\n",
              "      cursor: pointer;\n",
              "      display: none;\n",
              "      fill: #1967D2;\n",
              "      height: 32px;\n",
              "      padding: 0 0 0 0;\n",
              "      width: 32px;\n",
              "    }\n",
              "\n",
              "    .colab-df-convert:hover {\n",
              "      background-color: #E2EBFA;\n",
              "      box-shadow: 0px 1px 2px rgba(60, 64, 67, 0.3), 0px 1px 3px 1px rgba(60, 64, 67, 0.15);\n",
              "      fill: #174EA6;\n",
              "    }\n",
              "\n",
              "    .colab-df-buttons div {\n",
              "      margin-bottom: 4px;\n",
              "    }\n",
              "\n",
              "    [theme=dark] .colab-df-convert {\n",
              "      background-color: #3B4455;\n",
              "      fill: #D2E3FC;\n",
              "    }\n",
              "\n",
              "    [theme=dark] .colab-df-convert:hover {\n",
              "      background-color: #434B5C;\n",
              "      box-shadow: 0px 1px 3px 1px rgba(0, 0, 0, 0.15);\n",
              "      filter: drop-shadow(0px 1px 2px rgba(0, 0, 0, 0.3));\n",
              "      fill: #FFFFFF;\n",
              "    }\n",
              "  </style>\n",
              "\n",
              "    <script>\n",
              "      const buttonEl =\n",
              "        document.querySelector('#df-7372fb9d-8457-4fc0-99a3-61cbab07a6dd button.colab-df-convert');\n",
              "      buttonEl.style.display =\n",
              "        google.colab.kernel.accessAllowed ? 'block' : 'none';\n",
              "\n",
              "      async function convertToInteractive(key) {\n",
              "        const element = document.querySelector('#df-7372fb9d-8457-4fc0-99a3-61cbab07a6dd');\n",
              "        const dataTable =\n",
              "          await google.colab.kernel.invokeFunction('convertToInteractive',\n",
              "                                                    [key], {});\n",
              "        if (!dataTable) return;\n",
              "\n",
              "        const docLinkHtml = 'Like what you see? Visit the ' +\n",
              "          '<a target=\"_blank\" href=https://colab.research.google.com/notebooks/data_table.ipynb>data table notebook</a>'\n",
              "          + ' to learn more about interactive tables.';\n",
              "        element.innerHTML = '';\n",
              "        dataTable['output_type'] = 'display_data';\n",
              "        await google.colab.output.renderOutput(dataTable, element);\n",
              "        const docLink = document.createElement('div');\n",
              "        docLink.innerHTML = docLinkHtml;\n",
              "        element.appendChild(docLink);\n",
              "      }\n",
              "    </script>\n",
              "  </div>\n",
              "\n",
              "\n",
              "<div id=\"df-253ea020-b82d-416c-a448-00d4334a79b6\">\n",
              "  <button class=\"colab-df-quickchart\" onclick=\"quickchart('df-253ea020-b82d-416c-a448-00d4334a79b6')\"\n",
              "            title=\"Suggest charts\"\n",
              "            style=\"display:none;\">\n",
              "\n",
              "<svg xmlns=\"http://www.w3.org/2000/svg\" height=\"24px\"viewBox=\"0 0 24 24\"\n",
              "     width=\"24px\">\n",
              "    <g>\n",
              "        <path d=\"M19 3H5c-1.1 0-2 .9-2 2v14c0 1.1.9 2 2 2h14c1.1 0 2-.9 2-2V5c0-1.1-.9-2-2-2zM9 17H7v-7h2v7zm4 0h-2V7h2v10zm4 0h-2v-4h2v4z\"/>\n",
              "    </g>\n",
              "</svg>\n",
              "  </button>\n",
              "\n",
              "<style>\n",
              "  .colab-df-quickchart {\n",
              "      --bg-color: #E8F0FE;\n",
              "      --fill-color: #1967D2;\n",
              "      --hover-bg-color: #E2EBFA;\n",
              "      --hover-fill-color: #174EA6;\n",
              "      --disabled-fill-color: #AAA;\n",
              "      --disabled-bg-color: #DDD;\n",
              "  }\n",
              "\n",
              "  [theme=dark] .colab-df-quickchart {\n",
              "      --bg-color: #3B4455;\n",
              "      --fill-color: #D2E3FC;\n",
              "      --hover-bg-color: #434B5C;\n",
              "      --hover-fill-color: #FFFFFF;\n",
              "      --disabled-bg-color: #3B4455;\n",
              "      --disabled-fill-color: #666;\n",
              "  }\n",
              "\n",
              "  .colab-df-quickchart {\n",
              "    background-color: var(--bg-color);\n",
              "    border: none;\n",
              "    border-radius: 50%;\n",
              "    cursor: pointer;\n",
              "    display: none;\n",
              "    fill: var(--fill-color);\n",
              "    height: 32px;\n",
              "    padding: 0;\n",
              "    width: 32px;\n",
              "  }\n",
              "\n",
              "  .colab-df-quickchart:hover {\n",
              "    background-color: var(--hover-bg-color);\n",
              "    box-shadow: 0 1px 2px rgba(60, 64, 67, 0.3), 0 1px 3px 1px rgba(60, 64, 67, 0.15);\n",
              "    fill: var(--button-hover-fill-color);\n",
              "  }\n",
              "\n",
              "  .colab-df-quickchart-complete:disabled,\n",
              "  .colab-df-quickchart-complete:disabled:hover {\n",
              "    background-color: var(--disabled-bg-color);\n",
              "    fill: var(--disabled-fill-color);\n",
              "    box-shadow: none;\n",
              "  }\n",
              "\n",
              "  .colab-df-spinner {\n",
              "    border: 2px solid var(--fill-color);\n",
              "    border-color: transparent;\n",
              "    border-bottom-color: var(--fill-color);\n",
              "    animation:\n",
              "      spin 1s steps(1) infinite;\n",
              "  }\n",
              "\n",
              "  @keyframes spin {\n",
              "    0% {\n",
              "      border-color: transparent;\n",
              "      border-bottom-color: var(--fill-color);\n",
              "      border-left-color: var(--fill-color);\n",
              "    }\n",
              "    20% {\n",
              "      border-color: transparent;\n",
              "      border-left-color: var(--fill-color);\n",
              "      border-top-color: var(--fill-color);\n",
              "    }\n",
              "    30% {\n",
              "      border-color: transparent;\n",
              "      border-left-color: var(--fill-color);\n",
              "      border-top-color: var(--fill-color);\n",
              "      border-right-color: var(--fill-color);\n",
              "    }\n",
              "    40% {\n",
              "      border-color: transparent;\n",
              "      border-right-color: var(--fill-color);\n",
              "      border-top-color: var(--fill-color);\n",
              "    }\n",
              "    60% {\n",
              "      border-color: transparent;\n",
              "      border-right-color: var(--fill-color);\n",
              "    }\n",
              "    80% {\n",
              "      border-color: transparent;\n",
              "      border-right-color: var(--fill-color);\n",
              "      border-bottom-color: var(--fill-color);\n",
              "    }\n",
              "    90% {\n",
              "      border-color: transparent;\n",
              "      border-bottom-color: var(--fill-color);\n",
              "    }\n",
              "  }\n",
              "</style>\n",
              "\n",
              "  <script>\n",
              "    async function quickchart(key) {\n",
              "      const quickchartButtonEl =\n",
              "        document.querySelector('#' + key + ' button');\n",
              "      quickchartButtonEl.disabled = true;  // To prevent multiple clicks.\n",
              "      quickchartButtonEl.classList.add('colab-df-spinner');\n",
              "      try {\n",
              "        const charts = await google.colab.kernel.invokeFunction(\n",
              "            'suggestCharts', [key], {});\n",
              "      } catch (error) {\n",
              "        console.error('Error during call to suggestCharts:', error);\n",
              "      }\n",
              "      quickchartButtonEl.classList.remove('colab-df-spinner');\n",
              "      quickchartButtonEl.classList.add('colab-df-quickchart-complete');\n",
              "    }\n",
              "    (() => {\n",
              "      let quickchartButtonEl =\n",
              "        document.querySelector('#df-253ea020-b82d-416c-a448-00d4334a79b6 button');\n",
              "      quickchartButtonEl.style.display =\n",
              "        google.colab.kernel.accessAllowed ? 'block' : 'none';\n",
              "    })();\n",
              "  </script>\n",
              "</div>\n",
              "\n",
              "    </div>\n",
              "  </div>\n"
            ]
          },
          "metadata": {},
          "execution_count": 60
        }
      ]
    },
    {
      "cell_type": "markdown",
      "source": [
        "# Data Preparation"
      ],
      "metadata": {
        "id": "z40bVCTjhdju"
      }
    },
    {
      "cell_type": "code",
      "source": [
        "target = \"Category\""
      ],
      "metadata": {
        "id": "ZCJykYglr8SK"
      },
      "execution_count": 61,
      "outputs": []
    },
    {
      "cell_type": "code",
      "source": [
        "X = train_data.drop(columns=target, axis=1)\n",
        "y = train_data[target]\n",
        "print(\"X:\", X.shape, \"\\t\", type(X))\n",
        "print(\"y:\", y.shape, \"\\t\", type(y))"
      ],
      "metadata": {
        "colab": {
          "base_uri": "https://localhost:8080/"
        },
        "id": "G7Wn5Runr5En",
        "outputId": "17fbbf0d-1fc9-4006-ff03-849df9a302f3"
      },
      "execution_count": 62,
      "outputs": [
        {
          "output_type": "stream",
          "name": "stdout",
          "text": [
            "X: (9000, 101) \t <class 'pandas.core.frame.DataFrame'>\n",
            "y: (9000,) \t <class 'pandas.core.series.Series'>\n"
          ]
        }
      ]
    },
    {
      "cell_type": "code",
      "source": [
        "X_train, X_valid, y_train, y_valid = train_test_split(X, y, test_size=0.15,\n",
        "                                                      random_state=42)"
      ],
      "metadata": {
        "id": "8wAGFYGl6GCP"
      },
      "execution_count": 63,
      "outputs": []
    },
    {
      "cell_type": "code",
      "source": [
        "print(train_data[target].describe())"
      ],
      "metadata": {
        "colab": {
          "base_uri": "https://localhost:8080/"
        },
        "id": "wQsnA6GXFNlU",
        "outputId": "eff83b9c-cfbe-4761-a14e-150f300b94e9"
      },
      "execution_count": 64,
      "outputs": [
        {
          "output_type": "stream",
          "name": "stdout",
          "text": [
            "count    9000.000000\n",
            "mean     2172.374204\n",
            "std      1815.552523\n",
            "min        43.481937\n",
            "25%       677.899261\n",
            "50%      1396.503952\n",
            "75%      3203.820841\n",
            "max      9300.641194\n",
            "Name: Category, dtype: float64\n"
          ]
        }
      ]
    },
    {
      "cell_type": "code",
      "source": [
        "plt.figure(figsize=(25, 5))\n",
        "print(\"Skewness:\", train_data[target].skew())\n",
        "print(\"Kurtosis:\", train_data[target].kurtosis())\n",
        "sns.kdeplot(train_data[target], fill=True, color=\"red\")\n",
        "plt.xticks([i for i in range(0, 9300, 300)])\n",
        "plt.show()"
      ],
      "metadata": {
        "colab": {
          "base_uri": "https://localhost:8080/",
          "height": 381
        },
        "id": "AsJTiN4VGuRE",
        "outputId": "0421f830-ffe7-4919-d238-2271693de152"
      },
      "execution_count": 65,
      "outputs": [
        {
          "output_type": "stream",
          "name": "stdout",
          "text": [
            "Skewness: 1.04391975651334\n",
            "Kurtosis: 0.1877768209413504\n"
          ]
        },
        {
          "output_type": "display_data",
          "data": {
            "text/plain": [
              "<Figure size 2500x500 with 1 Axes>"
            ],
            "image/png": "[encoded data removed]"
          },
          "metadata": {}
        }
      ]
    },
    {
      "cell_type": "markdown",
      "source": [
        "# CatBoost Regression"
      ],
      "metadata": {
        "id": "pPHphpv9SNrG"
      }
    },
    {
      "cell_type": "code",
      "source": [
        "regressors = {\n",
        "    \"CatBoost\": CatBoostRegressor(random_state=42, verbose=False)\n",
        "}"
      ],
      "metadata": {
        "id": "Ajx1K4heRoyR"
      },
      "execution_count": 66,
      "outputs": []
    },
    {
      "cell_type": "code",
      "source": [
        "boosting_grid = {'iterations': [100],\n",
        "        'learning_rate': [0.05, 0.1, 0.15],\n",
        "        'depth': [2, 4, 6],\n",
        "        'l2_leaf_reg': [0.2, 0.5, 1, 3]}\n",
        "\n",
        "grid = {\n",
        "    \"CatBoost\": boosting_grid}"
      ],
      "metadata": {
        "id": "CkiN9UV1RBS3"
      },
      "execution_count": 21,
      "outputs": []
    },
    {
      "cell_type": "code",
      "source": [
        "i = 0\n",
        "reg_best_params = regressors.copy()\n",
        "valid_scores = pd.DataFrame({\"Classifier\": regressors.keys(),\n",
        "                             \"Validation accuracy\": np.zeros(len(regressors))})\n",
        "\n",
        "for key, regressor in regressors.items():\n",
        "    reg = GridSearchCV(estimator=regressor, param_grid=grid[key], n_jobs=-1,\n",
        "                       cv=None)\n",
        "\n",
        "    # Train and score.\n",
        "    reg.fit(X_train, y_train)\n",
        "    valid_pred = reg.predict(X_valid)\n",
        "    valid_scores.iloc[i, 1] = mean_squared_error(y_true=y_valid,\n",
        "                                                 y_pred=valid_pred,\n",
        "                                                 squared=False)\n",
        "\n",
        "    # Save trained model.\n",
        "    reg_best_params[key] = reg.best_params_\n",
        "\n",
        "    i += 1"
      ],
      "metadata": {
        "id": "QIeE2VnsRILW"
      },
      "execution_count": 23,
      "outputs": []
    },
    {
      "cell_type": "code",
      "source": [
        "print(valid_scores)"
      ],
      "metadata": {
        "colab": {
          "base_uri": "https://localhost:8080/"
        },
        "id": "bX5YT84-XHzh",
        "outputId": "ec15c050-7b0b-4438-f000-171febf9df56"
      },
      "execution_count": 24,
      "outputs": [
        {
          "output_type": "stream",
          "name": "stdout",
          "text": [
            "  Classifier  Validation accuracy\n",
            "0   CatBoost           1803.69145\n"
          ]
        }
      ]
    },
    {
      "cell_type": "code",
      "source": [
        "print(reg_best_params)"
      ],
      "metadata": {
        "id": "sqsUMVLfXJWP",
        "colab": {
          "base_uri": "https://localhost:8080/"
        },
        "outputId": "dea644a6-ffff-49d5-d26f-959c1913c160"
      },
      "execution_count": 78,
      "outputs": [
        {
          "output_type": "stream",
          "name": "stdout",
          "text": [
            "{'CatBoost': {'depth': 2, 'iterations': 100, 'l2_leaf_reg': 0.2, 'learning_rate': 0.15}}\n"
          ]
        }
      ]
    },
    {
      "cell_type": "code",
      "source": [
        "best_regressors = {\n",
        "    \"CatBoost\": CatBoostRegressor(**reg_best_params[\"CatBoost\"], verbose=False,\n",
        "                                  random_state=42)\n",
        "}"
      ],
      "metadata": {
        "id": "Fn1RzkG2UFfY"
      },
      "execution_count": 79,
      "outputs": []
    },
    {
      "cell_type": "code",
      "source": [
        "# Number of folds in cross validation\n",
        "folds = 10\n",
        "\n",
        "preds = np.zeros(len(test_data))\n",
        "\n",
        "for key, regressor in best_regressors.items():\n",
        "    start = time.time()\n",
        "\n",
        "    cv = KFold(n_splits=folds, shuffle=True, random_state=42)\n",
        "    score = 0\n",
        "\n",
        "    for fold, (train_idx, val_idx) in enumerate(cv.split(X, y)):\n",
        "        # Get training and validation sets.\n",
        "        X_train, X_valid = X.loc[train_idx], X.loc[val_idx]\n",
        "        y_train, y_valid = y.loc[train_idx], y.loc[val_idx]\n",
        "\n",
        "        valid_preds = np.zeros(len(X_valid))\n",
        "\n",
        "        reg = regressor\n",
        "        reg.fit(X_train, y_train)\n",
        "\n",
        "        preds += reg.predict(test_data)\n",
        "        valid_preds += reg.predict(X_valid)\n",
        "\n",
        "        score += mean_squared_error(y_true=y_valid, y_pred=valid_preds,\n",
        "                                                 squared=False)\n",
        "\n",
        "    score = score / folds  # Average RMSE.\n",
        "    stop = time.time()\n",
        "\n",
        "    print(\"Model:\", key)\n",
        "    print(\"Average validation RMSE:\", np.round(score, 2))\n",
        "    print(\"Training time (minutes):\", np.round((stop - start) / 60, 2))\n",
        "    print(\"\")\n",
        "\n",
        "# Ensemble predictions.\n",
        "preds = preds / (folds * len(best_regressors))"
      ],
      "metadata": {
        "colab": {
          "base_uri": "https://localhost:8080/"
        },
        "id": "b69C0wBvUq3O",
        "outputId": "7e4d7a9f-a2e2-4958-f778-7c80dd9920fc"
      },
      "execution_count": 80,
      "outputs": [
        {
          "output_type": "stream",
          "name": "stdout",
          "text": [
            "Model: CatBoost\n",
            "Average validation RMSE: 1793.27\n",
            "Training time (minutes): 0.12\n",
            "\n"
          ]
        }
      ]
    },
    {
      "cell_type": "code",
      "source": [
        "# Sample submission.\n",
        "submission = pd.read_csv(\"./data/sample.csv\")\n",
        "\n",
        "# Add predictions.\n",
        "submission[\"Category\"] = preds\n",
        "\n",
        "submission.to_csv(\"submission.csv\", index=False)"
      ],
      "metadata": {
        "id": "iJ9xWFZEYW39"
      },
      "execution_count": 74,
      "outputs": []
    }
  ]
}